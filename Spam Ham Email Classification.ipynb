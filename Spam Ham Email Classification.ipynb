{
 "cells": [
  {
   "cell_type": "markdown",
   "metadata": {},
   "source": [
    "<h2>Importing required modules</h2>"
   ]
  },
  {
   "cell_type": "code",
   "execution_count": 1,
   "metadata": {},
   "outputs": [],
   "source": [
    "import os #module that provide functions to interact with operating system\n",
    "import re #module included in python used for string searching and manipulation\n",
    "import math #module that provides access to the mathematical functions\n",
    "import copy #This module provides generic shallow and deep copy operations \n",
    "import itertools\n",
    "import collections #Collections in Python are containers that are used to store collections of data\n",
    "import matplotlib.pyplot as plt # library for creating static, animated, and interactive visualizations \n",
    "import numpy as np #library used for working with arrays. "
   ]
  },
  {
   "cell_type": "markdown",
   "metadata": {},
   "source": [
    "<h2>Read and store dataset functions</h2>"
   ]
  },
  {
   "cell_type": "code",
   "execution_count": 2,
   "metadata": {},
   "outputs": [],
   "source": [
    "# Document class to store email instances\n",
    "class Document:\n",
    "    text = \"\"\n",
    "    wordFreqs = {}\n",
    "    actualLabel = \"\"\n",
    "    predictedLabel = \"\"\n",
    "\n",
    "    def __init__(self, text, counter, actualLabel):\n",
    "        self.text = text\n",
    "        self.wordFreqs = counter\n",
    "        self.actualLabel = actualLabel\n",
    "\n",
    "    def getText(self):\n",
    "        return self.text\n",
    "\n",
    "    def getWordFreqs(self):\n",
    "        return self.wordFreqs\n",
    "\n",
    "    def getActualLabel(self):\n",
    "        return self.actualLabel\n",
    "\n",
    "    def getPredictedLabel(self):\n",
    "        return self.predictedLabel\n",
    "\n",
    "    def setPredictedLabel(self, guess_label):\n",
    "        self.predictedLabel = guess_label\n"
   ]
  },
  {
   "cell_type": "code",
   "execution_count": 3,
   "metadata": {},
   "outputs": [],
   "source": [
    "# extract words with their frequency in text\n",
    "def bagOfWords(text):\n",
    "    bagsofwords = collections.Counter(re.findall(r'\\w+', text))\n",
    "    return dict(bagsofwords)"
   ]
  },
  {
   "cell_type": "code",
   "execution_count": 4,
   "metadata": {},
   "outputs": [],
   "source": [
    "# Extracts the vocabulary of all the text in a data set\n",
    "def extractVocab(dataSet):\n",
    "    all_text = \"\"\n",
    "    v = []\n",
    "    for x in dataSet:\n",
    "        all_text += dataSet[x].getText()\n",
    "    for y in bagOfWords(all_text):\n",
    "        v.append(y)\n",
    "    return v"
   ]
  },
  {
   "cell_type": "markdown",
   "metadata": {},
   "source": [
    "<h2> Stopword Removal</h2>"
   ]
  },
  {
   "cell_type": "code",
   "execution_count": 5,
   "metadata": {},
   "outputs": [],
   "source": [
    "# Set the stop words\n",
    "def setStopWords():\n",
    "    stops = []\n",
    "    with open('stopwords.txt', 'r') as txt:\n",
    "        stops = (txt.read().splitlines())\n",
    "        stops = set(stops)\n",
    "    return stops\n",
    "\n",
    "# Remove stop words from data set and store in dictionary\n",
    "def removeStopWords(stops, dataSet):\n",
    "    filteredDataSet = copy.deepcopy(dataSet)\n",
    "    for i in stops:\n",
    "        for j in filteredDataSet:\n",
    "            if i in filteredDataSet[j].getWordFreqs():\n",
    "                del filteredDataSet[j].getWordFreqs()[i]\n",
    "    return filteredDataSet"
   ]
  },
  {
   "cell_type": "markdown",
   "metadata": {},
   "source": [
    "<h2> Create Dataset</h2>"
   ]
  },
  {
   "cell_type": "code",
   "execution_count": 6,
   "metadata": {},
   "outputs": [],
   "source": [
    "# Read all text files in the given directory and construct the data set \n",
    "def createDataset(storage_dict, directory, actualLabel):\n",
    "    for dir_entry in os.listdir(directory):\n",
    "        dir_entry_path = os.path.join(directory, dir_entry)\n",
    "        if os.path.isfile(dir_entry_path):\n",
    "            with open(dir_entry_path, 'r', encoding=\"ansi\", errors='ignore') as text_file:\n",
    "                text = text_file.read()\n",
    "                storage_dict.update({dir_entry_path: Document(text, bagOfWords(text), actualLabel)})"
   ]
  },
  {
   "cell_type": "code",
   "execution_count": 7,
   "metadata": {},
   "outputs": [],
   "source": [
    "# Stores emails as dictionaries. file_name : email_Document\n",
    "trainingSet = dict()\n",
    "testSet = dict()\n",
    "# Define classes for dataset\n",
    "# ham = 0 , spam = 1 \n",
    "classes = [\"ham\", \"spam\"]\n",
    "\n",
    "# takes directories holding the data text files as paramters\n",
    "def createDatasets(trainingSpamDir, trainingHamDir, testSpamDir, testHamDir):\n",
    "    createDataset(trainingSet, trainingSpamDir, classes[1])\n",
    "    createDataset(trainingSet, trainingHamDir, classes[0])\n",
    "    createDataset(testSet, testSpamDir, classes[1])\n",
    "    createDataset(testSet, testHamDir, classes[0])\n",
    "\n",
    "createDatasets('train/spam', 'train/ham', 'test/spam', 'test/ham')"
   ]
  },
  {
   "cell_type": "markdown",
   "metadata": {},
   "source": [
    "<h2>Train and Test Naive bayes </h2>"
   ]
  },
  {
   "cell_type": "code",
   "execution_count": 8,
   "metadata": {},
   "outputs": [],
   "source": [
    "# Training \n",
    "def trainNB(training, priors, conditional):\n",
    "    v = extractVocab(training)\n",
    "    n = len(training)\n",
    "    for c in classes:\n",
    "        n_c = 0.0\n",
    "        text_c = \"\"\n",
    "        for i in training:\n",
    "            if training[i].getActualLabel() == c:\n",
    "                n_c += 1\n",
    "                text_c += training[i].getText()\n",
    "        priors[c] = float(n_c) / float(n)\n",
    "        tokenFreqs = bagOfWords(text_c)\n",
    "        #print(\"tokenFreqs\")\n",
    "        #print (tokenFreqs)\n",
    "       \n",
    "        # Calculate conditional probabilities for each token and sum using laplace smoothing and log-scale\n",
    "        for t in v:\n",
    "            # known word case\n",
    "            if t in tokenFreqs:\n",
    "                conditional.update({t + \"_\" + c: (float((tokenFreqs[t] + 1.0)) / float((len(text_c) + len(tokenFreqs))))})\n",
    "            # unknown word case\n",
    "            else:\n",
    "                conditional.update({t + \"_\" + c: (float(1.0) / float((len(text_c) + len(tokenFreqs))))})\n",
    "\n",
    "\n",
    "# Testing. \n",
    "# Returns classification guess\n",
    "def applyNB(dataInstance, priors, conditional):\n",
    "    score = {}\n",
    "    for c in classes:\n",
    "        score[c] = math.log10(float(priors[c]))\n",
    "        for t in dataInstance.getWordFreqs():\n",
    "            if (t + \"_\" + c) in conditional:\n",
    "                score[c] += float(math.log10(conditional[t + \"_\" + c]))\n",
    "    if score[\"spam\"] > score[\"ham\"]:\n",
    "        return \"spam\"\n",
    "    else:\n",
    "        return \"ham\"\n"
   ]
  },
  {
   "cell_type": "markdown",
   "metadata": {},
   "source": [
    "<h2> Defining function for Plot Confusion Matrix</h2>"
   ]
  },
  {
   "cell_type": "code",
   "execution_count": 9,
   "metadata": {},
   "outputs": [],
   "source": [
    "#Evaluation of Model - Confusion Matrix Plot\n",
    "def plotConfusionMatrix(cm, classes,normalize=False,title='Confusion Matrix'):\n",
    "   \n",
    "    \"\"\"\n",
    "    This function prints and plots the confusion matrix.\n",
    "    Normalization can be applied by setting `normalize=True`.\n",
    "    \"\"\"\n",
    "    \"\"\"\n",
    "    if normalize:\n",
    "        cm = cm.astype('float') / cm.sum(axis=1)[:, np.newaxis]\n",
    "        print(\"Normalized confusion matrix\")\n",
    "    else:\n",
    "        print('Confusion matrix, without normalization')\n",
    "\n",
    "    print(cm)\n",
    "    \"\"\"\n",
    "    plt.figure()\n",
    "    cmap=plt.cm.Blues\n",
    "    plt.imshow(cm, interpolation='nearest', cmap=cmap)\n",
    "    plt.title(title)\n",
    "    plt.colorbar()\n",
    "    tick_marks = np.arange(len(classes))\n",
    "    plt.xticks(tick_marks, classes, rotation=45)\n",
    "    plt.yticks(tick_marks, classes)\n",
    "# Loop over data dimensions and create text annotations.\n",
    "    fmt = '.2f' if normalize else 'd'\n",
    "    thresh = cm.max() / 2.\n",
    "    for i, j in itertools.product(range(cm.shape[0]), range(cm.shape[1])):\n",
    "        plt.text(j, i, format(cm[i, j], fmt),\n",
    "                 horizontalalignment=\"center\",\n",
    "                 color=\"white\" if cm[i, j] > thresh else \"black\")\n",
    "\n",
    "    plt.ylabel('True label')\n",
    "    plt.xlabel('Predicted label')\n",
    "    plt.tight_layout()"
   ]
  },
  {
   "cell_type": "markdown",
   "metadata": {},
   "source": [
    "<h2>Training and Testing dataset</h2>"
   ]
  },
  {
   "cell_type": "code",
   "execution_count": 10,
   "metadata": {},
   "outputs": [],
   "source": [
    "# Set the stop words list\n",
    "stopWords = setStopWords()\n",
    "\n",
    "# Filtered sets without stop words\n",
    "filteredTrainingSet = dict()\n",
    "filteredTestSet = dict()\n",
    "\n",
    "# Set up data sets without stop words\n",
    "filteredTrainingSet = removeStopWords(stopWords, trainingSet)\n",
    "#print(filteredTrainingSet)\n",
    "filteredTestSet = removeStopWords(stopWords, testSet)\n",
    "#print (filtered_testSet)\n",
    "\n",
    "# Dictionary to store conditional probability and prior\n",
    "conditionalProbability = dict()\n",
    "prior = dict()\n",
    "\n",
    "# Train using the training data\n",
    "trainNB(filteredTrainingSet, prior, conditionalProbability)\n",
    "\n",
    "# Generating True Positive, False Positive, False Negative, True Negative\n",
    "tp = 0 #true positive\n",
    "tn =0 #true negetive\n",
    "fp =0 #false positive\n",
    "fn = 0 #false negetive\n",
    "for i in filteredTestSet:\n",
    "    filteredTestSet[i].setPredictedLabel(applyNB(filteredTestSet[i], prior, conditionalProbability))\n",
    "    if filteredTestSet[i].getPredictedLabel() == filteredTestSet[i].getActualLabel() == \"spam\":\n",
    "        tp += 1\n",
    "    elif filteredTestSet[i].getPredictedLabel() == filteredTestSet[i].getActualLabel() == \"ham\":\n",
    "        tn += 1\n",
    "    elif filteredTestSet[i].getPredictedLabel() != filteredTestSet[i].getActualLabel() and filteredTestSet[i].getPredictedLabel() == \"spam\":\n",
    "        fp += 1\n",
    "    else: #filteredTestSet[i].getPredictedLabel() != filteredTestSet[i].getActualLabel() and filteredTestSet[i].getPredictedLabel() == \"ham\":\n",
    "        fn += 1"
   ]
  },
  {
   "cell_type": "code",
   "execution_count": 11,
   "metadata": {},
   "outputs": [
    {
     "name": "stdout",
     "output_type": "stream",
     "text": [
      "Accuracy 95.1340276592112\n",
      "Precision 93.65537130497476\n",
      "Recall: 86.83155080213903\n"
     ]
    },
    {
     "data": {
      "image/png": "[encoded data removed]",
      "text/plain": [
       "<Figure size 432x288 with 2 Axes>"
      ]
     },
     "metadata": {
      "needs_background": "light"
     },
     "output_type": "display_data"
    }
   ],
   "source": [
    "# Computing performance metrics\n",
    "accuracy = (float(tp+tn) /float(tp+tn+fp+fn))*100   # (TP+TN)/(TP+TN+FP+FN)\n",
    "precision = (float(tp) /float(tp+fp))*100        # (TP)/(TP+FP)\n",
    "recall = ((tp) /float(tp+fn))*100               # (TP)/(TP+FN)\n",
    "# formula to calculate f1_score = 2*(Precision*Recall/Precision+Recall)\n",
    "\n",
    "# Printing performance metrics\n",
    "print (\"Accuracy\",  accuracy)\n",
    "print (\"Precision\", precision)\n",
    "print (\"Recall:\", recall)\n",
    "\n",
    "\n",
    "# Creating Confusion matrix\n",
    "cm = np.array([tn, fp, fn, tp]).reshape(2,2)\n",
    "plotConfusionMatrix(cm, classes, normalize=False, title='Confusion matrix')"
   ]
  },
  {
   "cell_type": "code",
   "execution_count": null,
   "metadata": {},
   "outputs": [],
   "source": []
  }
 ],
 "metadata": {
  "kernelspec": {
   "display_name": "Python 3",
   "language": "python",
   "name": "python3"
  },
  "language_info": {
   "codemirror_mode": {
    "name": "ipython",
    "version": 3
   },
   "file_extension": ".py",
   "mimetype": "text/x-python",
   "name": "python",
   "nbconvert_exporter": "python",
   "pygments_lexer": "ipython3",
   "version": "3.7.6"
  }
 },
 "nbformat": 4,
 "nbformat_minor": 4
}
